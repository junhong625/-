{
 "cells": [
  {
   "cell_type": "code",
   "execution_count": 1,
   "id": "5c2453b2",
   "metadata": {},
   "outputs": [],
   "source": [
    "import pandas as pd"
   ]
  },
  {
   "cell_type": "code",
   "execution_count": 11,
   "id": "c3af7e71",
   "metadata": {},
   "outputs": [],
   "source": [
    "df1 = pd.read_excel(u'룩업테이블 실습.xlsx', u'판매이력')"
   ]
  },
  {
   "cell_type": "code",
   "execution_count": 12,
   "id": "258f37e3",
   "metadata": {},
   "outputs": [],
   "source": [
    "df2 = pd.read_excel(u'룩업테이블 실습.xlsx', u'상품')"
   ]
  },
  {
   "cell_type": "code",
   "execution_count": 26,
   "id": "632e297e",
   "metadata": {},
   "outputs": [],
   "source": [
    "# df2의 columns가 '상품ID'로 저장되지 않는 오류 때문에 columns name 재설정\n",
    "df2.columns = ['상품ID', '상품명', '상품 카테고리']"
   ]
  },
  {
   "cell_type": "code",
   "execution_count": 28,
   "id": "e5ae2ebd",
   "metadata": {
    "scrolled": true
   },
   "outputs": [],
   "source": [
    "df3 = pd.merge(df1, df2, on='상품ID')"
   ]
  },
  {
   "cell_type": "code",
   "execution_count": 29,
   "id": "822c3349",
   "metadata": {},
   "outputs": [
    {
     "data": {
      "text/html": [
       "<div>\n",
       "<style scoped>\n",
       "    .dataframe tbody tr th:only-of-type {\n",
       "        vertical-align: middle;\n",
       "    }\n",
       "\n",
       "    .dataframe tbody tr th {\n",
       "        vertical-align: top;\n",
       "    }\n",
       "\n",
       "    .dataframe thead th {\n",
       "        text-align: right;\n",
       "    }\n",
       "</style>\n",
       "<table border=\"1\" class=\"dataframe\">\n",
       "  <thead>\n",
       "    <tr style=\"text-align: right;\">\n",
       "      <th></th>\n",
       "      <th>매출일</th>\n",
       "      <th>점포 ID</th>\n",
       "      <th>상품ID</th>\n",
       "      <th>상품명_x</th>\n",
       "      <th>상품 카테고리_x</th>\n",
       "      <th>고객 ID</th>\n",
       "      <th>금액</th>\n",
       "      <th>상품명_y</th>\n",
       "      <th>상품 카테고리_y</th>\n",
       "    </tr>\n",
       "  </thead>\n",
       "  <tbody>\n",
       "    <tr>\n",
       "      <th>0</th>\n",
       "      <td>2017-01-01</td>\n",
       "      <td>11.0</td>\n",
       "      <td>101.0</td>\n",
       "      <td>상품A</td>\n",
       "      <td>식료품</td>\n",
       "      <td>1001.0</td>\n",
       "      <td>57500.0</td>\n",
       "      <td>상품A</td>\n",
       "      <td>식료품</td>\n",
       "    </tr>\n",
       "    <tr>\n",
       "      <th>1</th>\n",
       "      <td>2017-02-01</td>\n",
       "      <td>12.0</td>\n",
       "      <td>101.0</td>\n",
       "      <td>상품A</td>\n",
       "      <td>식료품</td>\n",
       "      <td>1003.0</td>\n",
       "      <td>57500.0</td>\n",
       "      <td>상품A</td>\n",
       "      <td>식료품</td>\n",
       "    </tr>\n",
       "    <tr>\n",
       "      <th>2</th>\n",
       "      <td>2017-03-01</td>\n",
       "      <td>12.0</td>\n",
       "      <td>101.0</td>\n",
       "      <td>상품A</td>\n",
       "      <td>식료품</td>\n",
       "      <td>1003.0</td>\n",
       "      <td>60000.0</td>\n",
       "      <td>상품A</td>\n",
       "      <td>식료품</td>\n",
       "    </tr>\n",
       "    <tr>\n",
       "      <th>3</th>\n",
       "      <td>2017-01-01</td>\n",
       "      <td>11.0</td>\n",
       "      <td>102.0</td>\n",
       "      <td>상품B</td>\n",
       "      <td>전자제품</td>\n",
       "      <td>1002.0</td>\n",
       "      <td>2400.0</td>\n",
       "      <td>상품B</td>\n",
       "      <td>전자제품</td>\n",
       "    </tr>\n",
       "    <tr>\n",
       "      <th>4</th>\n",
       "      <td>2017-02-01</td>\n",
       "      <td>11.0</td>\n",
       "      <td>102.0</td>\n",
       "      <td>상품B</td>\n",
       "      <td>전자제품</td>\n",
       "      <td>1002.0</td>\n",
       "      <td>5800.0</td>\n",
       "      <td>상품B</td>\n",
       "      <td>전자제품</td>\n",
       "    </tr>\n",
       "    <tr>\n",
       "      <th>5</th>\n",
       "      <td>2017-03-01</td>\n",
       "      <td>11.0</td>\n",
       "      <td>102.0</td>\n",
       "      <td>상품B</td>\n",
       "      <td>전자제품</td>\n",
       "      <td>1002.0</td>\n",
       "      <td>12400.0</td>\n",
       "      <td>상품B</td>\n",
       "      <td>전자제품</td>\n",
       "    </tr>\n",
       "  </tbody>\n",
       "</table>\n",
       "</div>"
      ],
      "text/plain": [
       "         매출일  점포 ID   상품ID 상품명_x 상품 카테고리_x   고객 ID       금액 상품명_y 상품 카테고리_y\n",
       "0 2017-01-01   11.0  101.0   상품A       식료품  1001.0  57500.0   상품A       식료품\n",
       "1 2017-02-01   12.0  101.0   상품A       식료품  1003.0  57500.0   상품A       식료품\n",
       "2 2017-03-01   12.0  101.0   상품A       식료품  1003.0  60000.0   상품A       식료품\n",
       "3 2017-01-01   11.0  102.0   상품B      전자제품  1002.0   2400.0   상품B      전자제품\n",
       "4 2017-02-01   11.0  102.0   상품B      전자제품  1002.0   5800.0   상품B      전자제품\n",
       "5 2017-03-01   11.0  102.0   상품B      전자제품  1002.0  12400.0   상품B      전자제품"
      ]
     },
     "execution_count": 29,
     "metadata": {},
     "output_type": "execute_result"
    }
   ],
   "source": [
    "df3"
   ]
  },
  {
   "cell_type": "code",
   "execution_count": 31,
   "id": "fbb98792",
   "metadata": {},
   "outputs": [
    {
     "data": {
      "text/html": [
       "<div>\n",
       "<style scoped>\n",
       "    .dataframe tbody tr th:only-of-type {\n",
       "        vertical-align: middle;\n",
       "    }\n",
       "\n",
       "    .dataframe tbody tr th {\n",
       "        vertical-align: top;\n",
       "    }\n",
       "\n",
       "    .dataframe thead th {\n",
       "        text-align: right;\n",
       "    }\n",
       "</style>\n",
       "<table border=\"1\" class=\"dataframe\">\n",
       "  <thead>\n",
       "    <tr style=\"text-align: right;\">\n",
       "      <th></th>\n",
       "      <th>매출일</th>\n",
       "      <th>2017-01-01</th>\n",
       "      <th>2017-02-01</th>\n",
       "      <th>2017-03-01</th>\n",
       "    </tr>\n",
       "    <tr>\n",
       "      <th>점포 ID</th>\n",
       "      <th>상품명_x</th>\n",
       "      <th></th>\n",
       "      <th></th>\n",
       "      <th></th>\n",
       "    </tr>\n",
       "  </thead>\n",
       "  <tbody>\n",
       "    <tr>\n",
       "      <th rowspan=\"2\" valign=\"top\">11.0</th>\n",
       "      <th>상품A</th>\n",
       "      <td>57500.0</td>\n",
       "      <td>NaN</td>\n",
       "      <td>NaN</td>\n",
       "    </tr>\n",
       "    <tr>\n",
       "      <th>상품B</th>\n",
       "      <td>2400.0</td>\n",
       "      <td>5800.0</td>\n",
       "      <td>12400.0</td>\n",
       "    </tr>\n",
       "    <tr>\n",
       "      <th>12.0</th>\n",
       "      <th>상품A</th>\n",
       "      <td>NaN</td>\n",
       "      <td>57500.0</td>\n",
       "      <td>60000.0</td>\n",
       "    </tr>\n",
       "  </tbody>\n",
       "</table>\n",
       "</div>"
      ],
      "text/plain": [
       "매출일          2017-01-01  2017-02-01  2017-03-01\n",
       "점포 ID 상품명_x                                    \n",
       "11.0  상품A       57500.0         NaN         NaN\n",
       "      상품B        2400.0      5800.0     12400.0\n",
       "12.0  상품A           NaN     57500.0     60000.0"
      ]
     },
     "execution_count": 31,
     "metadata": {},
     "output_type": "execute_result"
    }
   ],
   "source": [
    "df3.pivot_table(u'금액', [u'점포 ID', u'상품명_x'], u'매출일', aggfunc='sum')"
   ]
  },
  {
   "cell_type": "code",
   "execution_count": 32,
   "id": "241b45b8",
   "metadata": {},
   "outputs": [
    {
     "data": {
      "text/html": [
       "<div>\n",
       "<style scoped>\n",
       "    .dataframe tbody tr th:only-of-type {\n",
       "        vertical-align: middle;\n",
       "    }\n",
       "\n",
       "    .dataframe tbody tr th {\n",
       "        vertical-align: top;\n",
       "    }\n",
       "\n",
       "    .dataframe thead th {\n",
       "        text-align: right;\n",
       "    }\n",
       "</style>\n",
       "<table border=\"1\" class=\"dataframe\">\n",
       "  <thead>\n",
       "    <tr style=\"text-align: right;\">\n",
       "      <th></th>\n",
       "      <th>매출일</th>\n",
       "      <th>점포 ID</th>\n",
       "      <th>상품ID</th>\n",
       "      <th>상품명</th>\n",
       "      <th>상품 카테고리</th>\n",
       "      <th>고객 ID</th>\n",
       "      <th>금액</th>\n",
       "    </tr>\n",
       "  </thead>\n",
       "  <tbody>\n",
       "    <tr>\n",
       "      <th>0</th>\n",
       "      <td>2017-01-01</td>\n",
       "      <td>11.0</td>\n",
       "      <td>101.0</td>\n",
       "      <td>상품A</td>\n",
       "      <td>식료품</td>\n",
       "      <td>1001.0</td>\n",
       "      <td>57500.0</td>\n",
       "    </tr>\n",
       "    <tr>\n",
       "      <th>1</th>\n",
       "      <td>2017-01-01</td>\n",
       "      <td>11.0</td>\n",
       "      <td>102.0</td>\n",
       "      <td>상품B</td>\n",
       "      <td>그 외</td>\n",
       "      <td>1002.0</td>\n",
       "      <td>2400.0</td>\n",
       "    </tr>\n",
       "  </tbody>\n",
       "</table>\n",
       "</div>"
      ],
      "text/plain": [
       "         매출일  점포 ID   상품ID  상품명 상품 카테고리   고객 ID       금액\n",
       "0 2017-01-01   11.0  101.0  상품A     식료품  1001.0  57500.0\n",
       "1 2017-01-01   11.0  102.0  상품B     그 외  1002.0   2400.0"
      ]
     },
     "execution_count": 32,
     "metadata": {},
     "output_type": "execute_result"
    }
   ],
   "source": [
    "def category(row):\n",
    "    return {101:u'식료품'}.get(row[u'상품ID'], u'그 외')\n",
    "df1[u'상품 카테고리'] = df1.apply(category, axis=1)\n",
    "df1.head(2)"
   ]
  }
 ],
 "metadata": {
  "kernelspec": {
   "display_name": "Python 3 (ipykernel)",
   "language": "python",
   "name": "python3"
  },
  "language_info": {
   "codemirror_mode": {
    "name": "ipython",
    "version": 3
   },
   "file_extension": ".py",
   "mimetype": "text/x-python",
   "name": "python",
   "nbconvert_exporter": "python",
   "pygments_lexer": "ipython3",
   "version": "3.9.7"
  }
 },
 "nbformat": 4,
 "nbformat_minor": 5
}
